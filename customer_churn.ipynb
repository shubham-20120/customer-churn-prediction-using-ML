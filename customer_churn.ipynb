{
  "nbformat": 4,
  "nbformat_minor": 0,
  "metadata": {
    "colab": {
      "name": "customer churn",
      "provenance": [],
      "collapsed_sections": [],
      "authorship_tag": "ABX9TyMuHOtRwGjygobgwYq6GgOs",
      "include_colab_link": true
    },
    "kernelspec": {
      "name": "python3",
      "display_name": "Python 3"
    },
    "language_info": {
      "name": "python"
    }
  },
  "cells": [
    {
      "cell_type": "markdown",
      "metadata": {
        "id": "view-in-github",
        "colab_type": "text"
      },
      "source": [
        "<a href=\"https://colab.research.google.com/github/shubham-20120/customer-churn-prediction-using-ML/blob/main/customer_churn.ipynb\" target=\"_parent\"><img src=\"https://colab.research.google.com/assets/colab-badge.svg\" alt=\"Open In Colab\"/></a>"
      ]
    },
    {
      "cell_type": "code",
      "metadata": {
        "id": "QIWkYOge8zYD"
      },
      "source": [
        "import pandas as pd\n",
        "import numpy as np\n",
        "import matplotlib.pyplot as plt\n",
        "from sklearn.preprocessing import LabelEncoder, OneHotEncoder, MinMaxScaler\n",
        "from sklearn.model_selection import train_test_split\n",
        "import seaborn as sns"
      ],
      "execution_count": 89,
      "outputs": []
    },
    {
      "cell_type": "markdown",
      "metadata": {
        "id": "mgdLVoP-wrPG"
      },
      "source": [
        "### importing data"
      ]
    },
    {
      "cell_type": "code",
      "metadata": {
        "id": "Uv_qQFcL88VF"
      },
      "source": [
        "df = pd.read_csv('/content/customer_churn.csv')"
      ],
      "execution_count": 4,
      "outputs": []
    },
    {
      "cell_type": "code",
      "metadata": {
        "id": "EOjCmeG49Cps",
        "colab": {
          "base_uri": "https://localhost:8080/",
          "height": 295
        },
        "outputId": "8d6138f6-e61d-469c-95f4-559bc2f69a8a"
      },
      "source": [
        "df.head()"
      ],
      "execution_count": 5,
      "outputs": [
        {
          "output_type": "execute_result",
          "data": {
            "text/html": [
              "<div>\n",
              "<style scoped>\n",
              "    .dataframe tbody tr th:only-of-type {\n",
              "        vertical-align: middle;\n",
              "    }\n",
              "\n",
              "    .dataframe tbody tr th {\n",
              "        vertical-align: top;\n",
              "    }\n",
              "\n",
              "    .dataframe thead th {\n",
              "        text-align: right;\n",
              "    }\n",
              "</style>\n",
              "<table border=\"1\" class=\"dataframe\">\n",
              "  <thead>\n",
              "    <tr style=\"text-align: right;\">\n",
              "      <th></th>\n",
              "      <th>customerID</th>\n",
              "      <th>gender</th>\n",
              "      <th>SeniorCitizen</th>\n",
              "      <th>Partner</th>\n",
              "      <th>Dependents</th>\n",
              "      <th>tenure</th>\n",
              "      <th>PhoneService</th>\n",
              "      <th>MultipleLines</th>\n",
              "      <th>InternetService</th>\n",
              "      <th>OnlineSecurity</th>\n",
              "      <th>OnlineBackup</th>\n",
              "      <th>DeviceProtection</th>\n",
              "      <th>TechSupport</th>\n",
              "      <th>StreamingTV</th>\n",
              "      <th>StreamingMovies</th>\n",
              "      <th>Contract</th>\n",
              "      <th>PaperlessBilling</th>\n",
              "      <th>PaymentMethod</th>\n",
              "      <th>MonthlyCharges</th>\n",
              "      <th>TotalCharges</th>\n",
              "      <th>Churn</th>\n",
              "    </tr>\n",
              "  </thead>\n",
              "  <tbody>\n",
              "    <tr>\n",
              "      <th>0</th>\n",
              "      <td>7590-VHVEG</td>\n",
              "      <td>Female</td>\n",
              "      <td>0</td>\n",
              "      <td>Yes</td>\n",
              "      <td>No</td>\n",
              "      <td>1</td>\n",
              "      <td>No</td>\n",
              "      <td>No phone service</td>\n",
              "      <td>DSL</td>\n",
              "      <td>No</td>\n",
              "      <td>Yes</td>\n",
              "      <td>No</td>\n",
              "      <td>No</td>\n",
              "      <td>No</td>\n",
              "      <td>No</td>\n",
              "      <td>Month-to-month</td>\n",
              "      <td>Yes</td>\n",
              "      <td>Electronic check</td>\n",
              "      <td>29.85</td>\n",
              "      <td>29.85</td>\n",
              "      <td>No</td>\n",
              "    </tr>\n",
              "    <tr>\n",
              "      <th>1</th>\n",
              "      <td>5575-GNVDE</td>\n",
              "      <td>Male</td>\n",
              "      <td>0</td>\n",
              "      <td>No</td>\n",
              "      <td>No</td>\n",
              "      <td>34</td>\n",
              "      <td>Yes</td>\n",
              "      <td>No</td>\n",
              "      <td>DSL</td>\n",
              "      <td>Yes</td>\n",
              "      <td>No</td>\n",
              "      <td>Yes</td>\n",
              "      <td>No</td>\n",
              "      <td>No</td>\n",
              "      <td>No</td>\n",
              "      <td>One year</td>\n",
              "      <td>No</td>\n",
              "      <td>Mailed check</td>\n",
              "      <td>56.95</td>\n",
              "      <td>1889.5</td>\n",
              "      <td>No</td>\n",
              "    </tr>\n",
              "    <tr>\n",
              "      <th>2</th>\n",
              "      <td>3668-QPYBK</td>\n",
              "      <td>Male</td>\n",
              "      <td>0</td>\n",
              "      <td>No</td>\n",
              "      <td>No</td>\n",
              "      <td>2</td>\n",
              "      <td>Yes</td>\n",
              "      <td>No</td>\n",
              "      <td>DSL</td>\n",
              "      <td>Yes</td>\n",
              "      <td>Yes</td>\n",
              "      <td>No</td>\n",
              "      <td>No</td>\n",
              "      <td>No</td>\n",
              "      <td>No</td>\n",
              "      <td>Month-to-month</td>\n",
              "      <td>Yes</td>\n",
              "      <td>Mailed check</td>\n",
              "      <td>53.85</td>\n",
              "      <td>108.15</td>\n",
              "      <td>Yes</td>\n",
              "    </tr>\n",
              "    <tr>\n",
              "      <th>3</th>\n",
              "      <td>7795-CFOCW</td>\n",
              "      <td>Male</td>\n",
              "      <td>0</td>\n",
              "      <td>No</td>\n",
              "      <td>No</td>\n",
              "      <td>45</td>\n",
              "      <td>No</td>\n",
              "      <td>No phone service</td>\n",
              "      <td>DSL</td>\n",
              "      <td>Yes</td>\n",
              "      <td>No</td>\n",
              "      <td>Yes</td>\n",
              "      <td>Yes</td>\n",
              "      <td>No</td>\n",
              "      <td>No</td>\n",
              "      <td>One year</td>\n",
              "      <td>No</td>\n",
              "      <td>Bank transfer (automatic)</td>\n",
              "      <td>42.30</td>\n",
              "      <td>1840.75</td>\n",
              "      <td>No</td>\n",
              "    </tr>\n",
              "    <tr>\n",
              "      <th>4</th>\n",
              "      <td>9237-HQITU</td>\n",
              "      <td>Female</td>\n",
              "      <td>0</td>\n",
              "      <td>No</td>\n",
              "      <td>No</td>\n",
              "      <td>2</td>\n",
              "      <td>Yes</td>\n",
              "      <td>No</td>\n",
              "      <td>Fiber optic</td>\n",
              "      <td>No</td>\n",
              "      <td>No</td>\n",
              "      <td>No</td>\n",
              "      <td>No</td>\n",
              "      <td>No</td>\n",
              "      <td>No</td>\n",
              "      <td>Month-to-month</td>\n",
              "      <td>Yes</td>\n",
              "      <td>Electronic check</td>\n",
              "      <td>70.70</td>\n",
              "      <td>151.65</td>\n",
              "      <td>Yes</td>\n",
              "    </tr>\n",
              "  </tbody>\n",
              "</table>\n",
              "</div>"
            ],
            "text/plain": [
              "   customerID  gender  SeniorCitizen  ... MonthlyCharges TotalCharges  Churn\n",
              "0  7590-VHVEG  Female              0  ...          29.85        29.85     No\n",
              "1  5575-GNVDE    Male              0  ...          56.95       1889.5     No\n",
              "2  3668-QPYBK    Male              0  ...          53.85       108.15    Yes\n",
              "3  7795-CFOCW    Male              0  ...          42.30      1840.75     No\n",
              "4  9237-HQITU  Female              0  ...          70.70       151.65    Yes\n",
              "\n",
              "[5 rows x 21 columns]"
            ]
          },
          "metadata": {
            "tags": []
          },
          "execution_count": 5
        }
      ]
    },
    {
      "cell_type": "code",
      "metadata": {
        "id": "I94t2QcM9H5c"
      },
      "source": [
        "df = df.drop('customerID', axis=1)"
      ],
      "execution_count": 6,
      "outputs": []
    },
    {
      "cell_type": "markdown",
      "metadata": {
        "id": "FsCwevbBwvWF"
      },
      "source": [
        "### data preprocessing"
      ]
    },
    {
      "cell_type": "code",
      "metadata": {
        "colab": {
          "base_uri": "https://localhost:8080/"
        },
        "id": "8m_wBzgl9Q87",
        "outputId": "7aedd124-5945-4e4b-9a41-1e4e24bf268a"
      },
      "source": [
        "df.dtypes"
      ],
      "execution_count": 7,
      "outputs": [
        {
          "output_type": "execute_result",
          "data": {
            "text/plain": [
              "gender               object\n",
              "SeniorCitizen         int64\n",
              "Partner              object\n",
              "Dependents           object\n",
              "tenure                int64\n",
              "PhoneService         object\n",
              "MultipleLines        object\n",
              "InternetService      object\n",
              "OnlineSecurity       object\n",
              "OnlineBackup         object\n",
              "DeviceProtection     object\n",
              "TechSupport          object\n",
              "StreamingTV          object\n",
              "StreamingMovies      object\n",
              "Contract             object\n",
              "PaperlessBilling     object\n",
              "PaymentMethod        object\n",
              "MonthlyCharges      float64\n",
              "TotalCharges         object\n",
              "Churn                object\n",
              "dtype: object"
            ]
          },
          "metadata": {
            "tags": []
          },
          "execution_count": 7
        }
      ]
    },
    {
      "cell_type": "code",
      "metadata": {
        "colab": {
          "base_uri": "https://localhost:8080/"
        },
        "id": "VCCQJwmp9pVX",
        "outputId": "cdca6728-4439-4c37-9de1-ef7a2bbab091"
      },
      "source": [
        "# checking for space error in TotalCharges\n",
        "df[pd.to_numeric(df.TotalCharges, errors='coerce').isnull()].shape"
      ],
      "execution_count": 9,
      "outputs": [
        {
          "output_type": "execute_result",
          "data": {
            "text/plain": [
              "(11, 20)"
            ]
          },
          "metadata": {
            "tags": []
          },
          "execution_count": 9
        }
      ]
    },
    {
      "cell_type": "code",
      "metadata": {
        "id": "S8PBY3xe9yPI"
      },
      "source": [
        "# removing data rows where TotalCharges == ' '\n",
        "df = df[df.TotalCharges != ' ']"
      ],
      "execution_count": 10,
      "outputs": []
    },
    {
      "cell_type": "code",
      "metadata": {
        "id": "Q70QgmGA-7jF"
      },
      "source": [
        "# changing string-numeric values to string\n",
        "df.TotalCharges = pd.to_numeric(df.TotalCharges)"
      ],
      "execution_count": 11,
      "outputs": []
    },
    {
      "cell_type": "code",
      "metadata": {
        "colab": {
          "base_uri": "https://localhost:8080/"
        },
        "id": "qjHsRQj1_YES",
        "outputId": "6d423460-f3cb-416f-b618-b6917782c022"
      },
      "source": [
        "# printing unique values in each rows\n",
        "for column in df:\n",
        "    print(column, df[column].unique())"
      ],
      "execution_count": 12,
      "outputs": [
        {
          "output_type": "stream",
          "text": [
            "gender ['Female' 'Male']\n",
            "SeniorCitizen [0 1]\n",
            "Partner ['Yes' 'No']\n",
            "Dependents ['No' 'Yes']\n",
            "tenure [ 1 34  2 45  8 22 10 28 62 13 16 58 49 25 69 52 71 21 12 30 47 72 17 27\n",
            "  5 46 11 70 63 43 15 60 18 66  9  3 31 50 64 56  7 42 35 48 29 65 38 68\n",
            " 32 55 37 36 41  6  4 33 67 23 57 61 14 20 53 40 59 24 44 19 54 51 26 39]\n",
            "PhoneService ['No' 'Yes']\n",
            "MultipleLines ['No phone service' 'No' 'Yes']\n",
            "InternetService ['DSL' 'Fiber optic' 'No']\n",
            "OnlineSecurity ['No' 'Yes' 'No internet service']\n",
            "OnlineBackup ['Yes' 'No' 'No internet service']\n",
            "DeviceProtection ['No' 'Yes' 'No internet service']\n",
            "TechSupport ['No' 'Yes' 'No internet service']\n",
            "StreamingTV ['No' 'Yes' 'No internet service']\n",
            "StreamingMovies ['No' 'Yes' 'No internet service']\n",
            "Contract ['Month-to-month' 'One year' 'Two year']\n",
            "PaperlessBilling ['Yes' 'No']\n",
            "PaymentMethod ['Electronic check' 'Mailed check' 'Bank transfer (automatic)'\n",
            " 'Credit card (automatic)']\n",
            "MonthlyCharges [29.85 56.95 53.85 ... 63.1  44.2  78.7 ]\n",
            "TotalCharges [  29.85 1889.5   108.15 ...  346.45  306.6  6844.5 ]\n",
            "Churn ['No' 'Yes']\n"
          ],
          "name": "stdout"
        }
      ]
    },
    {
      "cell_type": "code",
      "metadata": {
        "id": "lJouH8YRH6uy"
      },
      "source": [
        "# no services to 'No'\n",
        "df.MultipleLines = df.MultipleLines.replace('No phone service', 'No')\n",
        "df.OnlineSecurity = df.OnlineSecurity.replace('No internet service', 'No')\n",
        "df.OnlineBackup  = df.OnlineBackup.replace('No internet service', 'No')\n",
        "df.TechSupport  = df.TechSupport.replace('No internet service', 'No')\n",
        "df.StreamingTV  = df.StreamingTV.replace('No internet service', 'No')\n",
        "df.StreamingMovies  = df.StreamingMovies.replace('No internet service', 'No')\n",
        "df.DeviceProtection  = df.DeviceProtection.replace('No internet service', 'No')"
      ],
      "execution_count": 13,
      "outputs": []
    },
    {
      "cell_type": "code",
      "metadata": {
        "id": "bHQ_GTiCGThl"
      },
      "source": [
        "# label-encoding\n",
        "for column in df:\n",
        "    if len(df[column].unique()) == 2:\n",
        "        le = LabelEncoder()\n",
        "        df[column] = le.fit_transform(df[column])"
      ],
      "execution_count": 14,
      "outputs": []
    },
    {
      "cell_type": "code",
      "metadata": {
        "id": "jAjrgQFsp6vK"
      },
      "source": [
        "# one hot excoding of multiclass features\n",
        "df = pd.get_dummies(data=df, columns=['InternetService', 'Contract', 'PaymentMethod'])"
      ],
      "execution_count": 15,
      "outputs": []
    },
    {
      "cell_type": "code",
      "metadata": {
        "colab": {
          "base_uri": "https://localhost:8080/"
        },
        "id": "s1_D2cXX3CXf",
        "outputId": "f276a28b-db98-4d68-8028-8582c263372d"
      },
      "source": [
        "# again printing unique values in each rows\n",
        "for column in df:\n",
        "    print(column, df[column].unique())"
      ],
      "execution_count": 16,
      "outputs": [
        {
          "output_type": "stream",
          "text": [
            "gender [0 1]\n",
            "SeniorCitizen [0 1]\n",
            "Partner [1 0]\n",
            "Dependents [0 1]\n",
            "tenure [ 1 34  2 45  8 22 10 28 62 13 16 58 49 25 69 52 71 21 12 30 47 72 17 27\n",
            "  5 46 11 70 63 43 15 60 18 66  9  3 31 50 64 56  7 42 35 48 29 65 38 68\n",
            " 32 55 37 36 41  6  4 33 67 23 57 61 14 20 53 40 59 24 44 19 54 51 26 39]\n",
            "PhoneService [0 1]\n",
            "MultipleLines [0 1]\n",
            "OnlineSecurity [0 1]\n",
            "OnlineBackup [1 0]\n",
            "DeviceProtection [0 1]\n",
            "TechSupport [0 1]\n",
            "StreamingTV [0 1]\n",
            "StreamingMovies [0 1]\n",
            "PaperlessBilling [1 0]\n",
            "MonthlyCharges [29.85 56.95 53.85 ... 63.1  44.2  78.7 ]\n",
            "TotalCharges [  29.85 1889.5   108.15 ...  346.45  306.6  6844.5 ]\n",
            "Churn [0 1]\n",
            "InternetService_DSL [1 0]\n",
            "InternetService_Fiber optic [0 1]\n",
            "InternetService_No [0 1]\n",
            "Contract_Month-to-month [1 0]\n",
            "Contract_One year [0 1]\n",
            "Contract_Two year [0 1]\n",
            "PaymentMethod_Bank transfer (automatic) [0 1]\n",
            "PaymentMethod_Credit card (automatic) [0 1]\n",
            "PaymentMethod_Electronic check [1 0]\n",
            "PaymentMethod_Mailed check [0 1]\n"
          ],
          "name": "stdout"
        }
      ]
    },
    {
      "cell_type": "code",
      "metadata": {
        "id": "eEW5d99ZtjmY"
      },
      "source": [
        "# minmax scaling\n",
        "scalingCols = ['tenure', 'MonthlyCharges', 'TotalCharges']\n",
        "scaler = MinMaxScaler()\n",
        "df[scalingCols] = scaler.fit_transform(df[scalingCols])"
      ],
      "execution_count": 17,
      "outputs": []
    },
    {
      "cell_type": "code",
      "metadata": {
        "id": "KwTKQNVTt69v"
      },
      "source": [
        "# spliting dataset into train-test-split\n",
        "x = df.drop('Churn', axis=1)\n",
        "y = df['Churn']\n",
        "\n",
        "xtrain, xtest, ytrain, ytest = train_test_split(x, y, test_size=0.3)"
      ],
      "execution_count": 29,
      "outputs": []
    },
    {
      "cell_type": "code",
      "metadata": {
        "colab": {
          "base_uri": "https://localhost:8080/"
        },
        "id": "ySGIqwt4ui8-",
        "outputId": "a316b05a-d884-42fa-dbf3-fdc1cbdd83d5"
      },
      "source": [
        "df.shape, xtrain.shape, xtest.shape"
      ],
      "execution_count": 30,
      "outputs": [
        {
          "output_type": "execute_result",
          "data": {
            "text/plain": [
              "((7032, 27), (4922, 26), (2110, 26))"
            ]
          },
          "metadata": {
            "tags": []
          },
          "execution_count": 30
        }
      ]
    },
    {
      "cell_type": "code",
      "metadata": {
        "colab": {
          "base_uri": "https://localhost:8080/",
          "height": 702
        },
        "id": "BBX2azAaDe90",
        "outputId": "4c8796f7-5b63-418b-f7cb-fbc52ebfafc3"
      },
      "source": [
        "fig, axes = plt.subplots(2, 3, figsize=(12, 7), sharey=True)\n",
        "sns.countplot(\"gender\", data=df, ax=axes[0,0])\n",
        "sns.countplot(\"SeniorCitizen\", data=df, ax=axes[0,1])\n",
        "sns.countplot(\"Partner\", data=df, ax=axes[0,2])\n",
        "sns.countplot(\"Dependents\", data=df, ax=axes[1,0])\n",
        "sns.countplot(\"PhoneService\", data=df, ax=axes[1,1])\n",
        "sns.countplot(\"PaperlessBilling\", data=df, ax=axes[1,2])"
      ],
      "execution_count": 91,
      "outputs": [
        {
          "output_type": "stream",
          "text": [
            "/usr/local/lib/python3.7/dist-packages/seaborn/_decorators.py:43: FutureWarning: Pass the following variable as a keyword arg: x. From version 0.12, the only valid positional argument will be `data`, and passing other arguments without an explicit keyword will result in an error or misinterpretation.\n",
            "  FutureWarning\n",
            "/usr/local/lib/python3.7/dist-packages/seaborn/_decorators.py:43: FutureWarning: Pass the following variable as a keyword arg: x. From version 0.12, the only valid positional argument will be `data`, and passing other arguments without an explicit keyword will result in an error or misinterpretation.\n",
            "  FutureWarning\n",
            "/usr/local/lib/python3.7/dist-packages/seaborn/_decorators.py:43: FutureWarning: Pass the following variable as a keyword arg: x. From version 0.12, the only valid positional argument will be `data`, and passing other arguments without an explicit keyword will result in an error or misinterpretation.\n",
            "  FutureWarning\n",
            "/usr/local/lib/python3.7/dist-packages/seaborn/_decorators.py:43: FutureWarning: Pass the following variable as a keyword arg: x. From version 0.12, the only valid positional argument will be `data`, and passing other arguments without an explicit keyword will result in an error or misinterpretation.\n",
            "  FutureWarning\n",
            "/usr/local/lib/python3.7/dist-packages/seaborn/_decorators.py:43: FutureWarning: Pass the following variable as a keyword arg: x. From version 0.12, the only valid positional argument will be `data`, and passing other arguments without an explicit keyword will result in an error or misinterpretation.\n",
            "  FutureWarning\n",
            "/usr/local/lib/python3.7/dist-packages/seaborn/_decorators.py:43: FutureWarning: Pass the following variable as a keyword arg: x. From version 0.12, the only valid positional argument will be `data`, and passing other arguments without an explicit keyword will result in an error or misinterpretation.\n",
            "  FutureWarning\n"
          ],
          "name": "stderr"
        },
        {
          "output_type": "execute_result",
          "data": {
            "text/plain": [
              "<matplotlib.axes._subplots.AxesSubplot at 0x7f8bb9390e90>"
            ]
          },
          "metadata": {
            "tags": []
          },
          "execution_count": 91
        },
        {
          "output_type": "display_data",
          "data": {
            "image/png": "[encoded data removed]",
            "text/plain": [
              "<Figure size 864x504 with 6 Axes>"
            ]
          },
          "metadata": {
            "tags": [],
            "needs_background": "light"
          }
        }
      ]
    },
    {
      "cell_type": "markdown",
      "metadata": {
        "id": "yNS09jFUwypl"
      },
      "source": [
        "### running algorithms"
      ]
    },
    {
      "cell_type": "code",
      "metadata": {
        "colab": {
          "base_uri": "https://localhost:8080/"
        },
        "id": "v7Sw5bF_uo7e",
        "outputId": "22f48d80-c2f1-40d5-eb04-5df00ad8ed17"
      },
      "source": [
        "from sklearn.tree import DecisionTreeClassifier\n",
        "dtModel = DecisionTreeClassifier()\n",
        "\n",
        "dtModel.fit(xtrain, ytrain)\n",
        "\n",
        "print(round(dtModel.score(xtest, ytest), 4) * 100, '%')"
      ],
      "execution_count": 31,
      "outputs": [
        {
          "output_type": "stream",
          "text": [
            "72.65 %\n"
          ],
          "name": "stdout"
        }
      ]
    },
    {
      "cell_type": "code",
      "metadata": {
        "colab": {
          "base_uri": "https://localhost:8080/"
        },
        "id": "M8kpJjsKxW61",
        "outputId": "918b6aac-3954-4982-ff0b-051908d5ae3c"
      },
      "source": [
        "from sklearn.neighbors import KNeighborsClassifier\n",
        "knnModel = KNeighborsClassifier()\n",
        "\n",
        "knnModel.fit(xtrain, ytrain)\n",
        "\n",
        "print(round(knnModel.score(xtest, ytest), 4) * 100, '%')"
      ],
      "execution_count": 32,
      "outputs": [
        {
          "output_type": "stream",
          "text": [
            "75.73 %\n"
          ],
          "name": "stdout"
        }
      ]
    },
    {
      "cell_type": "code",
      "metadata": {
        "id": "SUBPb_0Rxm_2"
      },
      "source": [
        "from tensorflow import keras"
      ],
      "execution_count": 33,
      "outputs": []
    },
    {
      "cell_type": "code",
      "metadata": {
        "colab": {
          "base_uri": "https://localhost:8080/"
        },
        "id": "6Dn3PFW-31Tp",
        "outputId": "f317c356-505f-46d7-938d-dad8ccdedb39"
      },
      "source": [
        "annModel = keras.Sequential([\n",
        "    keras.layers.Dense(26, input_shape=(26,), activation='relu'),\n",
        "    keras.layers.Dense(14, activation='relu'),\n",
        "    keras.layers.Dense(8, activation='relu'),\n",
        "    keras.layers.Dense(1, activation='tanh')\n",
        "])\n",
        "\n",
        "annModel.compile(optimizer='adam', loss='categorical_crossentropy', metrics=['accuracy'])\n",
        "\n",
        "annModel.fit(xtrain, ytrain, epochs=20)"
      ],
      "execution_count": 48,
      "outputs": [
        {
          "output_type": "stream",
          "text": [
            "Epoch 1/20\n",
            "154/154 [==============================] - 1s 1ms/step - loss: 3.2358e-08 - accuracy: 0.7286\n",
            "Epoch 2/20\n",
            "154/154 [==============================] - 0s 1ms/step - loss: 3.2358e-08 - accuracy: 0.7286\n",
            "Epoch 3/20\n",
            "154/154 [==============================] - 0s 1ms/step - loss: 3.2358e-08 - accuracy: 0.7286\n",
            "Epoch 4/20\n",
            "154/154 [==============================] - 0s 2ms/step - loss: 3.2358e-08 - accuracy: 0.7286\n",
            "Epoch 5/20\n",
            "154/154 [==============================] - 0s 1ms/step - loss: 3.2358e-08 - accuracy: 0.7286\n",
            "Epoch 6/20\n",
            "154/154 [==============================] - 0s 1ms/step - loss: 3.2358e-08 - accuracy: 0.7286\n",
            "Epoch 7/20\n",
            "154/154 [==============================] - 0s 1ms/step - loss: 3.2358e-08 - accuracy: 0.7286\n",
            "Epoch 8/20\n",
            "154/154 [==============================] - 0s 1ms/step - loss: 3.2358e-08 - accuracy: 0.7286\n",
            "Epoch 9/20\n",
            "154/154 [==============================] - 0s 1ms/step - loss: 3.2358e-08 - accuracy: 0.7286\n",
            "Epoch 10/20\n",
            "154/154 [==============================] - 0s 1ms/step - loss: 3.2358e-08 - accuracy: 0.7286\n",
            "Epoch 11/20\n",
            "154/154 [==============================] - 0s 1ms/step - loss: 3.2358e-08 - accuracy: 0.7286\n",
            "Epoch 12/20\n",
            "154/154 [==============================] - 0s 1ms/step - loss: 3.2358e-08 - accuracy: 0.7286\n",
            "Epoch 13/20\n",
            "154/154 [==============================] - 0s 2ms/step - loss: 3.2358e-08 - accuracy: 0.7286\n",
            "Epoch 14/20\n",
            "154/154 [==============================] - 0s 1ms/step - loss: 3.2358e-08 - accuracy: 0.7286\n",
            "Epoch 15/20\n",
            "154/154 [==============================] - 0s 1ms/step - loss: 3.2358e-08 - accuracy: 0.7286\n",
            "Epoch 16/20\n",
            "154/154 [==============================] - 0s 1ms/step - loss: 3.2358e-08 - accuracy: 0.7286\n",
            "Epoch 17/20\n",
            "154/154 [==============================] - 0s 1ms/step - loss: 3.2358e-08 - accuracy: 0.7286\n",
            "Epoch 18/20\n",
            "154/154 [==============================] - 0s 2ms/step - loss: 3.2358e-08 - accuracy: 0.7286\n",
            "Epoch 19/20\n",
            "154/154 [==============================] - 0s 2ms/step - loss: 3.2358e-08 - accuracy: 0.7286\n",
            "Epoch 20/20\n",
            "154/154 [==============================] - 0s 1ms/step - loss: 3.2358e-08 - accuracy: 0.7286\n"
          ],
          "name": "stdout"
        },
        {
          "output_type": "execute_result",
          "data": {
            "text/plain": [
              "<tensorflow.python.keras.callbacks.History at 0x7f8bb9c7d090>"
            ]
          },
          "metadata": {
            "tags": []
          },
          "execution_count": 48
        }
      ]
    },
    {
      "cell_type": "code",
      "metadata": {
        "colab": {
          "base_uri": "https://localhost:8080/"
        },
        "id": "HYM5gaoA40Xq",
        "outputId": "07a19973-41b0-446c-fb0d-9312262269c0"
      },
      "source": [
        "print('Accuracy: ', round(annModel.evaluate(xtest, ytest)[1], 4)*100, '%')"
      ],
      "execution_count": 88,
      "outputs": [
        {
          "output_type": "stream",
          "text": [
            "66/66 [==============================] - 0s 963us/step - loss: 3.0113e-08 - accuracy: 0.7474\n",
            "Accuracy:  74.74 %\n"
          ],
          "name": "stdout"
        }
      ]
    }
  ]
}